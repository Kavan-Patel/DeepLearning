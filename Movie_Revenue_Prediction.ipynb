{
  "nbformat": 4,
  "nbformat_minor": 0,
  "metadata": {
    "colab": {
      "name": "Movie_Revenue_Prediction.ipynb",
      "provenance": [],
      "collapsed_sections": []
    },
    "kernelspec": {
      "name": "python3",
      "display_name": "Python 3"
    }
  },
  "cells": [
    {
      "cell_type": "code",
      "metadata": {
        "id": "fqybNeWJFXed",
        "colab_type": "code",
        "colab": {}
      },
      "source": [
        "import pandas as pd\n",
        "import matplotlib.pyplot as plt\n",
        "import numpy as np\n",
        "from pandas import DataFrame\n",
        "from sklearn.linear_model import LinearRegression"
      ],
      "execution_count": 0,
      "outputs": []
    },
    {
      "cell_type": "code",
      "metadata": {
        "id": "TYSNakHBFwIh",
        "colab_type": "code",
        "colab": {}
      },
      "source": [
        "data = pd.read_csv(\"/content/drive/My Drive/Machine_Learning/Movie_data.csv\")"
      ],
      "execution_count": 0,
      "outputs": []
    },
    {
      "cell_type": "code",
      "metadata": {
        "id": "GDBbhN1WINu7",
        "colab_type": "code",
        "outputId": "cc09536c-9f0b-49ec-df51-5fe7ab53c517",
        "colab": {
          "base_uri": "https://localhost:8080/",
          "height": 297
        }
      },
      "source": [
        "data.describe()"
      ],
      "execution_count": 3,
      "outputs": [
        {
          "output_type": "execute_result",
          "data": {
            "text/html": [
              "<div>\n",
              "<style scoped>\n",
              "    .dataframe tbody tr th:only-of-type {\n",
              "        vertical-align: middle;\n",
              "    }\n",
              "\n",
              "    .dataframe tbody tr th {\n",
              "        vertical-align: top;\n",
              "    }\n",
              "\n",
              "    .dataframe thead th {\n",
              "        text-align: right;\n",
              "    }\n",
              "</style>\n",
              "<table border=\"1\" class=\"dataframe\">\n",
              "  <thead>\n",
              "    <tr style=\"text-align: right;\">\n",
              "      <th></th>\n",
              "      <th>Production_Budget</th>\n",
              "      <th>Worldwide_revenue</th>\n",
              "    </tr>\n",
              "  </thead>\n",
              "  <tbody>\n",
              "    <tr>\n",
              "      <th>count</th>\n",
              "      <td>5.034000e+03</td>\n",
              "      <td>5.034000e+03</td>\n",
              "    </tr>\n",
              "    <tr>\n",
              "      <th>mean</th>\n",
              "      <td>3.290784e+07</td>\n",
              "      <td>9.515685e+07</td>\n",
              "    </tr>\n",
              "    <tr>\n",
              "      <th>std</th>\n",
              "      <td>4.112589e+07</td>\n",
              "      <td>1.726012e+08</td>\n",
              "    </tr>\n",
              "    <tr>\n",
              "      <th>min</th>\n",
              "      <td>1.100000e+03</td>\n",
              "      <td>2.600000e+01</td>\n",
              "    </tr>\n",
              "    <tr>\n",
              "      <th>25%</th>\n",
              "      <td>6.000000e+06</td>\n",
              "      <td>7.000000e+06</td>\n",
              "    </tr>\n",
              "    <tr>\n",
              "      <th>50%</th>\n",
              "      <td>1.900000e+07</td>\n",
              "      <td>3.296202e+07</td>\n",
              "    </tr>\n",
              "    <tr>\n",
              "      <th>75%</th>\n",
              "      <td>4.200000e+07</td>\n",
              "      <td>1.034471e+08</td>\n",
              "    </tr>\n",
              "    <tr>\n",
              "      <th>max</th>\n",
              "      <td>4.250000e+08</td>\n",
              "      <td>2.783919e+09</td>\n",
              "    </tr>\n",
              "  </tbody>\n",
              "</table>\n",
              "</div>"
            ],
            "text/plain": [
              "       Production_Budget  Worldwide_revenue\n",
              "count       5.034000e+03       5.034000e+03\n",
              "mean        3.290784e+07       9.515685e+07\n",
              "std         4.112589e+07       1.726012e+08\n",
              "min         1.100000e+03       2.600000e+01\n",
              "25%         6.000000e+06       7.000000e+06\n",
              "50%         1.900000e+07       3.296202e+07\n",
              "75%         4.200000e+07       1.034471e+08\n",
              "max         4.250000e+08       2.783919e+09"
            ]
          },
          "metadata": {
            "tags": []
          },
          "execution_count": 3
        }
      ]
    },
    {
      "cell_type": "code",
      "metadata": {
        "id": "D8Tuz2LeIUJQ",
        "colab_type": "code",
        "colab": {}
      },
      "source": [
        "production_budget = DataFrame(data, columns=['Production_Budget'])\n",
        "worldwide_revenue = DataFrame(data, columns=['Worldwide_revenue'])"
      ],
      "execution_count": 0,
      "outputs": []
    },
    {
      "cell_type": "code",
      "metadata": {
        "id": "eryTSxn59xgA",
        "colab_type": "code",
        "outputId": "343df4c5-e394-43f7-8a01-d41c20c14c91",
        "colab": {
          "base_uri": "https://localhost:8080/",
          "height": 34
        }
      },
      "source": [
        "regrassion = LinearRegression()\n",
        "regrassion.fit(production_budget, worldwide_revenue)"
      ],
      "execution_count": 5,
      "outputs": [
        {
          "output_type": "execute_result",
          "data": {
            "text/plain": [
              "LinearRegression(copy_X=True, fit_intercept=True, n_jobs=None, normalize=False)"
            ]
          },
          "metadata": {
            "tags": []
          },
          "execution_count": 5
        }
      ]
    },
    {
      "cell_type": "markdown",
      "metadata": {
        "id": "K17xHmXX-CQ2",
        "colab_type": "text"
      },
      "source": [
        "Slop Coefficient\n",
        "\n",
        "```\n",
        "# Means if you spent one doller you will get 3.11 $ back as formula its theta_1\n",
        "```\n",
        "\n"
      ]
    },
    {
      "cell_type": "code",
      "metadata": {
        "id": "SNlYvGas98Eu",
        "colab_type": "code",
        "outputId": "df905c74-a431-4604-aead-cac2934e042f",
        "colab": {
          "base_uri": "https://localhost:8080/",
          "height": 34
        }
      },
      "source": [
        "regrassion.coef_     # Theta = 1"
      ],
      "execution_count": 6,
      "outputs": [
        {
          "output_type": "execute_result",
          "data": {
            "text/plain": [
              "array([[3.11150918]])"
            ]
          },
          "metadata": {
            "tags": []
          },
          "execution_count": 6
        }
      ]
    },
    {
      "cell_type": "markdown",
      "metadata": {
        "id": "eBpyGjMq-K1-",
        "colab_type": "text"
      },
      "source": [
        "Intercept depicts starting point means if you spent nothing then you will have that much money in this case its -7 million so it's not feasiable\n",
        "\n",
        "hΘ(x) = Θ0 +Θ 1 x \n",
        "\n",
        "Here Θ0 which is -7236192.7291 in our case which is intercept at y axis at starting point\n",
        "\n",
        "Here Θ1 which is 3.11 in our case which is coef \n",
        "so our formula is \n",
        "\n",
        "hΘ(x) = 3.11 - 7236192.7291 x\n",
        "\n",
        "So if we want to predict revanue for 50 millioin budget film we put value of x and we can get 148,338,807\n",
        "\n",
        "which is good \n",
        "\n",
        " "
      ]
    },
    {
      "cell_type": "code",
      "metadata": {
        "id": "sv6yqQPH-Mve",
        "colab_type": "code",
        "outputId": "afca6188-cc60-456a-a0c6-a898d4f8c57c",
        "colab": {
          "base_uri": "https://localhost:8080/",
          "height": 34
        }
      },
      "source": [
        "regrassion.intercept_"
      ],
      "execution_count": 7,
      "outputs": [
        {
          "output_type": "execute_result",
          "data": {
            "text/plain": [
              "array([-7236192.72913958])"
            ]
          },
          "metadata": {
            "tags": []
          },
          "execution_count": 7
        }
      ]
    },
    {
      "cell_type": "code",
      "metadata": {
        "id": "vZl6UsqpIkjU",
        "colab_type": "code",
        "outputId": "0f426765-5450-4873-87b3-67546b1eeb28",
        "colab": {
          "base_uri": "https://localhost:8080/",
          "height": 403
        }
      },
      "source": [
        "plt.figure(figsize=(10,6))\n",
        "plt.scatter(production_budget,worldwide_revenue, alpha=0.3)\n",
        "plt.title('Film Coast vs Revenue')\n",
        "\n",
        "plt.plot(production_budget, regrassion.predict(production_budget), color='red')\n",
        "\n",
        "plt.xlabel = ('Film Coast')\n",
        "plt.ylabel = ('Revenue')\n",
        "plt.xlim(0,450000000)\n",
        "plt.ylim(0,3000000000)\n",
        "plt.show()"
      ],
      "execution_count": 8,
      "outputs": [
        {
          "output_type": "display_data",
          "data": {
            "image/png": "[encoded data removed]",
            "text/plain": [
              "<Figure size 720x432 with 1 Axes>"
            ]
          },
          "metadata": {
            "tags": []
          }
        }
      ]
    },
    {
      "cell_type": "markdown",
      "metadata": {
        "id": "59D6kWNtBnFr",
        "colab_type": "text"
      },
      "source": [
        "R-square Goodness of fit to evalueate model\n",
        "\n",
        "which is accuracy of our model\n",
        "\n",
        "in regression model the score takes features and target and calculate all prediction inside the score method"
      ]
    },
    {
      "cell_type": "code",
      "metadata": {
        "id": "ohqctig7JJ71",
        "colab_type": "code",
        "outputId": "d6ddccb9-11fd-42bf-cc40-9ab1b0d1da7d",
        "colab": {
          "base_uri": "https://localhost:8080/",
          "height": 34
        }
      },
      "source": [
        "regrassion.score(production_budget,worldwide_revenue)"
      ],
      "execution_count": 9,
      "outputs": [
        {
          "output_type": "execute_result",
          "data": {
            "text/plain": [
              "0.5496485356985729"
            ]
          },
          "metadata": {
            "tags": []
          },
          "execution_count": 9
        }
      ]
    },
    {
      "cell_type": "code",
      "metadata": {
        "id": "iEiU4wBhB2Pz",
        "colab_type": "code",
        "colab": {}
      },
      "source": [
        ""
      ],
      "execution_count": 0,
      "outputs": []
    }
  ]
}