{
 "cells": [
  {
   "cell_type": "code",
   "execution_count": 1,
   "metadata": {},
   "outputs": [],
   "source": [
    "import numpy as np\n",
    "import pandas as pd\n",
    "import matplotlib.pyplot as plt"
   ]
  },
  {
   "cell_type": "code",
   "execution_count": 2,
   "metadata": {},
   "outputs": [
    {
     "name": "stdout",
     "output_type": "stream",
     "text": [
      "       Date  DailyCases  ChangesInDaily ChangesInDailyP\n",
      "0   Feb. 16        2132              35              2%\n",
      "1   Feb. 15        2097            -566            -21%\n",
      "2   Feb. 14        2663           -2491            -48%\n",
      "3   Feb. 13        5154           -8959            -63%\n",
      "4   Feb. 12       14113           12042            581%\n",
      "5   Feb. 11        2071            -475            -19%\n",
      "6   Feb. 10        2546            -455            -15%\n",
      "7    Feb. 9        3001             325             12%\n",
      "8    Feb. 8        2676            -761            -22%\n",
      "9    Feb. 7        3437             274              9%\n",
      "10   Feb. 6        3163            -560            -15%\n",
      "11   Feb. 5        3723            -202             -5%\n",
      "12   Feb. 4        3925             686             21%\n",
      "13   Feb. 3        3239             401             14%\n",
      "14   Feb. 2        2838             235              9%\n",
      "15   Feb. 1        2603             476             22%\n",
      "16  Jan. 31        2127             119              6%\n",
      "17  Jan. 30        2008             253             14%\n",
      "18  Jan. 29        1755             278             19%\n",
      "19  Jan. 28        1477            -304            -17%\n",
      "20  Jan. 27        1781             996            127%\n",
      "21  Jan. 26         785              87             12%\n",
      "22  Jan. 25         698             226             48%\n",
      "23  Jan. 24         472             207             78%\n"
     ]
    }
   ],
   "source": [
    "#reading data\n",
    "data=pd.read_csv(\"CoronaVirus1.csv\")\n",
    "print(data)"
   ]
  },
  {
   "cell_type": "code",
   "execution_count": 3,
   "metadata": {},
   "outputs": [
    {
     "name": "stdout",
     "output_type": "stream",
     "text": [
      "['Jan. 24' 'Jan. 25' 'Jan. 26' 'Jan. 27' 'Jan. 28' 'Jan. 29' 'Jan. 30'\n",
      " 'Jan. 31' 'Feb. 1' 'Feb. 2' 'Feb. 3' 'Feb. 4' 'Feb. 5' 'Feb. 6' 'Feb. 7'\n",
      " 'Feb. 8' 'Feb. 9' 'Feb. 10' 'Feb. 11' 'Feb. 12' 'Feb. 13' 'Feb. 14'\n",
      " 'Feb. 15' 'Feb. 16']\n",
      "[  472   698   785  1781  1477  1755  2008  2127  2603  2838  3239  3925\n",
      "  3723  3163  3437  2676  3001  2546  2071 14113  5154  2663  2097  2132]\n"
     ]
    }
   ],
   "source": [
    "#get dates and dailycases values\n",
    "xo=data['Date'].values\n",
    "yo=data['DailyCases'].values\n",
    "x=np.flipud(xo)\n",
    "y=np.flipud(yo)\n",
    "print(x)\n",
    "print(y)"
   ]
  },
  {
   "cell_type": "code",
   "execution_count": 8,
   "metadata": {},
   "outputs": [
    {
     "name": "stdout",
     "output_type": "stream",
     "text": [
      "[ 1  2  3  4  5  6  7  8  9 10 11 12 13 14 15 16 17 18 19 20 21 22 23 24]\n",
      "2936.8333333333335\n",
      "12.5\n"
     ]
    }
   ],
   "source": [
    "#Linear Regression Algorithm\n",
    "a=np.arange(1,x.size+1,1,dtype=int)\n",
    "print(a)\n",
    "y_mean=np.mean(y)\n",
    "x_mean=np.mean(a)\n",
    "print(y_mean)\n",
    "print(x_mean)"
   ]
  },
  {
   "cell_type": "code",
   "execution_count": 9,
   "metadata": {},
   "outputs": [
    {
     "name": "stdout",
     "output_type": "stream",
     "text": [
      "191.40317694260213\n",
      "544.2936215508071\n",
      "[735.6967984934092, 927.0999754360114, 1118.5031523786133, 1309.9063293212157, 1501.3095062638176, 1692.7126832064198, 1884.115860149022, 2075.5190370916243, 2266.9222140342263, 2458.325390976828, 2649.7285679194306, 2841.1317448620325, 3032.534921804635, 3223.938098747237, 3415.341275689839, 3606.744452632441, 3798.147629575043, 3989.5508065176455, 4180.953983460247, 4372.357160402849, 4563.760337345451, 4755.163514288054, 4946.566691230656, 5137.969868173258]\n"
     ]
    }
   ],
   "source": [
    "size=x.size\n",
    "number=0.0\n",
    "denom=0.0\n",
    "Y=[]\n",
    "for i in range(size-1):\n",
    "    number=number+((y[i]-y_mean)*(a[i]-x_mean))\n",
    "    denom=denom+ (a[i]-x_mean)**2\n",
    "\n",
    "m=number/denom\n",
    "c=y_mean-(m*x_mean)\n",
    "\n",
    "for i in range(size):\n",
    "    Y.append(((m*(i+1))+c))\n",
    "\n",
    "print(m)\n",
    "print(c)\n",
    "print(Y)"
   ]
  },
  {
   "cell_type": "code",
   "execution_count": null,
   "metadata": {},
   "outputs": [],
   "source": []
  },
  {
   "cell_type": "code",
   "execution_count": 10,
   "metadata": {},
   "outputs": [
    {
     "data": {
      "image/png": "[encoded data removed]",
      "text/plain": [
       "<Figure size 432x288 with 1 Axes>"
      ]
     },
     "metadata": {
      "needs_background": "light"
     },
     "output_type": "display_data"
    }
   ],
   "source": [
    "plt.scatter(x,y)\n",
    "plt.plot(x,Y,color='red')\n",
    "plt.show()"
   ]
  },
  {
   "cell_type": "code",
   "execution_count": 11,
   "metadata": {},
   "outputs": [
    {
     "name": "stdout",
     "output_type": "stream",
     "text": [
      "total coronavirus cases on feb25th will be :  6860.598460656677\n"
     ]
    }
   ],
   "source": [
    "#Here for total Cases of corona virus on feb 25th \n",
    "#we can take x value as 33 which is equivelent value for feb25th\n",
    "approximation= (m*33) + c\n",
    "print(\"total coronavirus cases on feb25th will be : \",approximation)"
   ]
  },
  {
   "cell_type": "code",
   "execution_count": null,
   "metadata": {},
   "outputs": [],
   "source": []
  }
 ],
 "metadata": {
  "kernelspec": {
   "display_name": "Python 3",
   "language": "python",
   "name": "python3"
  },
  "language_info": {
   "codemirror_mode": {
    "name": "ipython",
    "version": 3
   },
   "file_extension": ".py",
   "mimetype": "text/x-python",
   "name": "python",
   "nbconvert_exporter": "python",
   "pygments_lexer": "ipython3",
   "version": "3.7.4"
  }
 },
 "nbformat": 4,
 "nbformat_minor": 2
}
